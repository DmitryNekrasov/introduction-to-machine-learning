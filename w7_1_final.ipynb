{
 "cells": [
  {
   "cell_type": "code",
   "execution_count": 1,
   "metadata": {
    "collapsed": true
   },
   "outputs": [],
   "source": [
    "import datetime\n",
    "import numpy as np\n",
    "import pandas\n",
    "import matplotlib.pyplot as plt\n",
    "from sklearn.ensemble import GradientBoostingClassifier\n",
    "from sklearn.model_selection import cross_val_score\n",
    "from sklearn.model_selection import KFold\n",
    "from sklearn.linear_model import LogisticRegression\n",
    "from sklearn.preprocessing import StandardScaler"
   ]
  },
  {
   "cell_type": "code",
   "execution_count": 2,
   "metadata": {
    "collapsed": true
   },
   "outputs": [],
   "source": [
    "data = pandas.read_csv('samples/features.csv', index_col='match_id')\n",
    "data_size = len(data)"
   ]
  },
  {
   "cell_type": "markdown",
   "metadata": {},
   "source": [
    "### Проверка выборки на наличие пропусков"
   ]
  },
  {
   "cell_type": "code",
   "execution_count": 3,
   "metadata": {
    "collapsed": false
   },
   "outputs": [
    {
     "name": "stdout",
     "output_type": "stream",
     "text": [
      "first_blood_player2: 0.452\n",
      "radiant_flying_courier_time: 0.283\n",
      "dire_flying_courier_time: 0.268\n",
      "first_blood_time: 0.201\n",
      "first_blood_team: 0.201\n",
      "first_blood_player1: 0.201\n",
      "dire_bottle_time: 0.166\n",
      "radiant_bottle_time: 0.161\n",
      "radiant_first_ward_time: 0.019\n",
      "dire_first_ward_time: 0.019\n",
      "radiant_courier_time: 0.007\n",
      "dire_courier_time: 0.007\n"
     ]
    }
   ],
   "source": [
    "pass_result = reversed(sorted(map(lambda nc: (1 - nc[0] / data_size, nc[1]),\n",
    "                                  filter(lambda nc: nc[0] < data_size,\n",
    "                                         [(data[col_name].count(), col_name) for col_name in data.columns]))))\n",
    "print('\\n'.join(map(lambda nc: nc[1] + ': ' + str(round(nc[0], 3)), pass_result)))"
   ]
  },
  {
   "cell_type": "markdown",
   "metadata": {},
   "source": [
    "### Объяснение некоторых пропусков\n",
    "\n",
    "* **first\\_blood_\\*** - Если за первые 5 минут не произошло событие \"первая кровь\", то поля, начинающиеся с этого префикса, не заполнены. Также, первое убийство чаще происходит одним игроком, поэтому поле first_blood_player1 заполнено больше, чем поле first_blood_player2;\n",
    "* **radiant_courier_time, dire_courier_time** - Если команда не получила предмет \"courier\", то соответствующие команде поле не заполнено;\n",
    "* **dire_first_ward_time** - Если команда за первые 5 минут не установила \"наблюдателя\", то данное поле не заполнено."
   ]
  },
  {
   "cell_type": "markdown",
   "metadata": {},
   "source": [
    "### Удаление признаков, связанных с итогами матча. Разделение данных на признаки и целевую переменную"
   ]
  },
  {
   "cell_type": "code",
   "execution_count": 4,
   "metadata": {
    "collapsed": true
   },
   "outputs": [],
   "source": [
    "X = data.drop(\n",
    "    ['duration', 'tower_status_radiant', 'tower_status_dire',\n",
    "     'barracks_status_radiant', 'barracks_status_dire', 'radiant_win'], axis=1)\n",
    "y = data.radiant_win"
   ]
  },
  {
   "cell_type": "markdown",
   "metadata": {},
   "source": [
    "Столбец, содержащий целевую переменную - radiant_win"
   ]
  },
  {
   "cell_type": "markdown",
   "metadata": {},
   "source": [
    "### Замена пропусков на нули"
   ]
  },
  {
   "cell_type": "code",
   "execution_count": 5,
   "metadata": {
    "collapsed": true
   },
   "outputs": [],
   "source": [
    "X = X.fillna(0)"
   ]
  },
  {
   "cell_type": "code",
   "execution_count": 6,
   "metadata": {
    "collapsed": true
   },
   "outputs": [],
   "source": [
    "cv = KFold(n_splits=5, shuffle=True, random_state=241)"
   ]
  },
  {
   "cell_type": "markdown",
   "metadata": {},
   "source": [
    "### Функция для отрисовки графиков"
   ]
  },
  {
   "cell_type": "code",
   "execution_count": 7,
   "metadata": {
    "collapsed": true
   },
   "outputs": [],
   "source": [
    "def plot_chart(x, y, x_label, y_label):\n",
    "    plt.plot(x, y)\n",
    "    plt.xlabel(x_label)\n",
    "    plt.ylabel(y_label)\n",
    "    plt.show()"
   ]
  },
  {
   "cell_type": "markdown",
   "metadata": {},
   "source": [
    "### Подход 1: градиентный бустинг \"в лоб\""
   ]
  },
  {
   "cell_type": "code",
   "execution_count": 8,
   "metadata": {
    "collapsed": true
   },
   "outputs": [],
   "source": [
    "def start_gradient_boosting(x_in):\n",
    "    est_nums = [10, 20, 30, 50, 100, 250]\n",
    "    means = []\n",
    "\n",
    "    for estimators_number in est_nums:\n",
    "        print('\\nestimators_number =', estimators_number)\n",
    "\n",
    "        clf = GradientBoostingClassifier(n_estimators=estimators_number, random_state=241)\n",
    "\n",
    "        start_time = datetime.datetime.now()\n",
    "        score = cross_val_score(clf, x_in, y, cv=cv, scoring='roc_auc', n_jobs=-1)\n",
    "        finish_time = datetime.datetime.now() - start_time\n",
    "\n",
    "        mean = np.mean(score)\n",
    "        means.append(mean)\n",
    "\n",
    "        print('score =', score)\n",
    "        print('mean =', mean)\n",
    "        print('time =', finish_time)\n",
    "\n",
    "    return est_nums, means"
   ]
  },
  {
   "cell_type": "code",
   "execution_count": 9,
   "metadata": {
    "collapsed": false
   },
   "outputs": [
    {
     "name": "stdout",
     "output_type": "stream",
     "text": [
      "\n",
      "estimators_number = 10\n",
      "score = [ 0.66943496  0.65627754  0.66390454  0.66281223  0.66950933]\n",
      "mean = 0.664387720635\n",
      "time = 0:00:11.249927\n",
      "\n",
      "estimators_number = 20\n",
      "score = [ 0.68939011  0.67567277  0.68201026  0.67977584  0.68741889]\n",
      "mean = 0.682853573534\n",
      "time = 0:00:19.805838\n",
      "\n",
      "estimators_number = 30\n",
      "score = [ 0.69641668  0.68365441  0.68731862  0.68728458  0.69280674]\n",
      "mean = 0.689496206059\n",
      "time = 0:00:27.889636\n",
      "\n",
      "estimators_number = 50\n",
      "score = [ 0.70382382  0.69325852  0.69452532  0.69565719  0.7000093 ]\n",
      "mean = 0.697454831695\n",
      "time = 0:00:45.805478\n",
      "\n",
      "estimators_number = 100\n",
      "score = [ 0.71211028  0.70275727  0.70340522  0.70450889  0.70884943]\n",
      "mean = 0.706326218163\n",
      "time = 0:01:28.610482\n",
      "\n",
      "estimators_number = 250\n",
      "score = [ 0.72079812  0.71236846  0.71331471  0.7139089   0.71781337]\n",
      "mean = 0.715640710503\n",
      "time = 0:03:37.091623\n"
     ]
    }
   ],
   "source": [
    "nums, scores = start_gradient_boosting(X)"
   ]
  },
  {
   "cell_type": "markdown",
   "metadata": {},
   "source": [
    "Кросс-валидация для градиентного бустинга с 30-ю деревьями проводилась ~27.89с. При этом среднее значение оценки составило ~0.7."
   ]
  },
  {
   "cell_type": "code",
   "execution_count": 10,
   "metadata": {
    "collapsed": false
   },
   "outputs": [
    {
     "data": {
      "image/png": "[encoded data removed]",
      "text/plain": [
       "<matplotlib.figure.Figure at 0x1ed40ab85f8>"
      ]
     },
     "metadata": {},
     "output_type": "display_data"
    }
   ],
   "source": [
    "plot_chart(nums, scores, 'estimators_number', 'mean')"
   ]
  },
  {
   "cell_type": "code",
   "execution_count": 11,
   "metadata": {
    "collapsed": false
   },
   "outputs": [
    {
     "name": "stdout",
     "output_type": "stream",
     "text": [
      "Best num = 250\n",
      "Max Score = 0.715640710503\n"
     ]
    }
   ],
   "source": [
    "max_score, best_num = max(zip(scores, nums))\n",
    "print('Best num =', best_num)\n",
    "print('Max Score =', max_score)"
   ]
  },
  {
   "cell_type": "markdown",
   "metadata": {},
   "source": [
    "Как видно из графика, увеличение кол-ва деревьев в градиентном бустинге приводит к увеличению оценки качества. Вместе с этим увеличивается и время обучения. Чтобы снизить время обучения, можно исспользовать не всю выборку, а некоторое её подмножество. Также можно уменьшить глубину деревьев в градиентном бустинге."
   ]
  },
  {
   "cell_type": "markdown",
   "metadata": {},
   "source": [
    "### Подход 2: логистическая регрессия"
   ]
  },
  {
   "cell_type": "code",
   "execution_count": 12,
   "metadata": {
    "collapsed": true
   },
   "outputs": [],
   "source": [
    "def start_logistic_regression(x_in):\n",
    "    powers = np.power(10.0, np.arange(-5, 6))\n",
    "    means = []\n",
    "\n",
    "    for c in powers:\n",
    "        print('\\nC =', c)\n",
    "\n",
    "        clf = LogisticRegression(C=c, random_state=241, n_jobs=-1)\n",
    "\n",
    "        start_time = datetime.datetime.now()\n",
    "        score = cross_val_score(clf, x_in, y, cv=cv, scoring='roc_auc', n_jobs=-1)\n",
    "        finish_time = datetime.datetime.now() - start_time\n",
    "\n",
    "        mean = np.mean(score)\n",
    "        means.append(mean)\n",
    "\n",
    "        print('score =', score)\n",
    "        print('mean =', mean)\n",
    "        print('time =', finish_time)\n",
    "\n",
    "    return powers, means"
   ]
  },
  {
   "cell_type": "code",
   "execution_count": 13,
   "metadata": {
    "collapsed": true
   },
   "outputs": [],
   "source": [
    "scaler = StandardScaler()"
   ]
  },
  {
   "cell_type": "code",
   "execution_count": 14,
   "metadata": {
    "collapsed": true
   },
   "outputs": [],
   "source": [
    "scale_x = scaler.fit_transform(X)"
   ]
  },
  {
   "cell_type": "code",
   "execution_count": 15,
   "metadata": {
    "collapsed": false
   },
   "outputs": [
    {
     "name": "stdout",
     "output_type": "stream",
     "text": [
      "\n",
      "C = 1e-05\n",
      "score = [ 0.69959206  0.69159358  0.69419291  0.69433159  0.69589176]\n",
      "mean = 0.695120379847\n",
      "time = 0:00:03.565368\n",
      "\n",
      "C = 0.0001\n",
      "score = [ 0.7161759   0.7083769   0.70960313  0.71017245  0.71192219]\n",
      "mean = 0.711250114392\n",
      "time = 0:00:03.611249\n",
      "\n",
      "C = 0.001\n",
      "score = [ 0.72134945  0.71368677  0.71425051  0.71512064  0.71649386]\n",
      "mean = 0.716180246368\n",
      "time = 0:00:05.371855\n",
      "\n",
      "C = 0.01\n",
      "score = [ 0.7216634   0.71377395  0.71440813  0.71540233  0.7164595 ]\n",
      "mean = 0.716341462187\n",
      "time = 0:00:06.619706\n",
      "\n",
      "C = 0.1\n",
      "score = [ 0.72165841  0.7137031   0.71438941  0.71539496  0.71640454]\n",
      "mean = 0.716310083653\n",
      "time = 0:00:06.807676\n",
      "\n",
      "C = 1.0\n",
      "score = [ 0.72165762  0.71369565  0.71438656  0.71539329  0.7163998 ]\n",
      "mean = 0.716306583646\n",
      "time = 0:00:06.821774\n",
      "\n",
      "C = 10.0\n",
      "score = [ 0.72165702  0.7136947   0.71438623  0.71539423  0.71639952]\n",
      "mean = 0.71630633996\n",
      "time = 0:00:06.924554\n",
      "\n",
      "C = 100.0\n",
      "score = [ 0.72165734  0.71369455  0.7143859   0.71539408  0.71639946]\n",
      "mean = 0.716306265779\n",
      "time = 0:00:07.023105\n",
      "\n",
      "C = 1000.0\n",
      "score = [ 0.72165734  0.71369457  0.71438593  0.71539409  0.71639938]\n",
      "mean = 0.716306263653\n",
      "time = 0:00:06.869255\n",
      "\n",
      "C = 10000.0\n",
      "score = [ 0.72165733  0.71369457  0.71438593  0.71539407  0.71639938]\n",
      "mean = 0.7163062573\n",
      "time = 0:00:06.747410\n",
      "\n",
      "C = 100000.0\n",
      "score = [ 0.72165733  0.71369457  0.71438594  0.71539407  0.71639938]\n",
      "mean = 0.716306259419\n",
      "time = 0:00:06.657185\n"
     ]
    }
   ],
   "source": [
    "c_parameters, scores = start_logistic_regression(scale_x)"
   ]
  },
  {
   "cell_type": "code",
   "execution_count": 16,
   "metadata": {
    "collapsed": false
   },
   "outputs": [
    {
     "data": {
      "image/png": "[encoded data removed]",
      "text/plain": [
       "<matplotlib.figure.Figure at 0x1ed41114be0>"
      ]
     },
     "metadata": {},
     "output_type": "display_data"
    }
   ],
   "source": [
    "plot_chart(np.log10(c_parameters), scores, 'log10(C)', 'mean')"
   ]
  },
  {
   "cell_type": "code",
   "execution_count": 17,
   "metadata": {
    "collapsed": false
   },
   "outputs": [
    {
     "name": "stdout",
     "output_type": "stream",
     "text": [
      "Best C = 0.01\n",
      "Max Score = 0.716341462187\n"
     ]
    }
   ],
   "source": [
    "max_score, best_c = max(zip(scores, c_parameters))\n",
    "print('Best C =', best_c)\n",
    "print('Max Score =', max_score)"
   ]
  },
  {
   "cell_type": "markdown",
   "metadata": {},
   "source": [
    "Наилучшего качества логистическая регрессия достигает при параметре регуляризации C = 0.01, при этом оценка качества составляет 0.716. Это значение больше, чем оценка качества градиентного бустинга с кол-вом деревьев 250, при этом логистическая регрессия обучается значительно быстрее."
   ]
  },
  {
   "cell_type": "markdown",
   "metadata": {},
   "source": [
    "### Удаление категориальных признаков"
   ]
  },
  {
   "cell_type": "code",
   "execution_count": 18,
   "metadata": {
    "collapsed": true
   },
   "outputs": [],
   "source": [
    "def remove_category_features(x_in):\n",
    "    del_list = ['{}{}_hero'.format(name, val) for val in range(1, 6) for name in ['r', 'd']]\n",
    "    del_list.append('lobby_type')\n",
    "    x = x_in.drop(del_list, axis=1)\n",
    "    return x"
   ]
  },
  {
   "cell_type": "code",
   "execution_count": 19,
   "metadata": {
    "collapsed": true
   },
   "outputs": [],
   "source": [
    "x_without_category = remove_category_features(X)\n",
    "scale_x = scaler.fit_transform(x_without_category)"
   ]
  },
  {
   "cell_type": "code",
   "execution_count": 20,
   "metadata": {
    "collapsed": false
   },
   "outputs": [
    {
     "name": "stdout",
     "output_type": "stream",
     "text": [
      "\n",
      "C = 1e-05\n",
      "score = [ 0.69961316  0.69150564  0.69419646  0.69425458  0.69571482]\n",
      "mean = 0.695056932991\n",
      "time = 0:00:03.586067\n",
      "\n",
      "C = 0.0001\n",
      "score = [ 0.71630684  0.70828717  0.70971489  0.71020968  0.71172337]\n",
      "mean = 0.711248390616\n",
      "time = 0:00:04.345803\n",
      "\n",
      "C = 0.001\n",
      "score = [ 0.72152794  0.71360976  0.71445497  0.71521698  0.71636831]\n",
      "mean = 0.716235591021\n",
      "time = 0:00:05.387756\n",
      "\n",
      "C = 0.01\n",
      "score = [ 0.7218164   0.71370124  0.71462628  0.71551614  0.71634469]\n",
      "mean = 0.716400950653\n",
      "time = 0:00:06.624780\n",
      "\n",
      "C = 0.1\n",
      "score = [ 0.72181205  0.7136378   0.7146095   0.71551012  0.71629945]\n",
      "mean = 0.716373784472\n",
      "time = 0:00:07.219536\n",
      "\n",
      "C = 1.0\n",
      "score = [ 0.72181039  0.71363045  0.71460884  0.71551016  0.71629392]\n",
      "mean = 0.716370752658\n",
      "time = 0:00:06.362482\n",
      "\n",
      "C = 10.0\n",
      "score = [ 0.72181043  0.71362965  0.71460893  0.71551033  0.71629306]\n",
      "mean = 0.716370479305\n",
      "time = 0:00:07.039675\n",
      "\n",
      "C = 100.0\n",
      "score = [ 0.72181067  0.71362945  0.71460889  0.71551027  0.71629322]\n",
      "mean = 0.716370496271\n",
      "time = 0:00:06.388555\n",
      "\n",
      "C = 1000.0\n",
      "score = [ 0.72181072  0.71362952  0.71460893  0.71551026  0.71629323]\n",
      "mean = 0.716370530166\n",
      "time = 0:00:06.499297\n",
      "\n",
      "C = 10000.0\n",
      "score = [ 0.72181071  0.71362952  0.71460894  0.71551026  0.71629323]\n",
      "mean = 0.716370530167\n",
      "time = 0:00:06.361481\n",
      "\n",
      "C = 100000.0\n",
      "score = [ 0.7218107   0.71362952  0.71460894  0.71551026  0.71629323]\n",
      "mean = 0.71637052805\n",
      "time = 0:00:06.326562\n"
     ]
    }
   ],
   "source": [
    "c_parameters, scores = start_logistic_regression(scale_x)"
   ]
  },
  {
   "cell_type": "code",
   "execution_count": 21,
   "metadata": {
    "collapsed": false
   },
   "outputs": [
    {
     "data": {
      "image/png": "[encoded data removed]",
      "text/plain": [
       "<matplotlib.figure.Figure at 0x1ed410e5ba8>"
      ]
     },
     "metadata": {},
     "output_type": "display_data"
    }
   ],
   "source": [
    "plot_chart(np.log10(c_parameters), scores, 'log10(C)', 'mean')"
   ]
  },
  {
   "cell_type": "code",
   "execution_count": 22,
   "metadata": {
    "collapsed": false
   },
   "outputs": [
    {
     "name": "stdout",
     "output_type": "stream",
     "text": [
      "Best C = 0.01\n",
      "Max Score = 0.716400950653\n"
     ]
    }
   ],
   "source": [
    "max_score, best_c = max(zip(scores, c_parameters))\n",
    "print('Best C =', best_c)\n",
    "print('Max Score =', max_score)"
   ]
  },
  {
   "cell_type": "markdown",
   "metadata": {},
   "source": [
    "Удаление категориальных признаков никак не повлияло на изменение оценки качества классификации. Максимального значения в 0.716 оценка достигает также при параметре регуляризации C = 0.01."
   ]
  },
  {
   "cell_type": "markdown",
   "metadata": {},
   "source": [
    "### Вычисление кол-ва героев в игре"
   ]
  },
  {
   "cell_type": "code",
   "execution_count": 23,
   "metadata": {
    "collapsed": false
   },
   "outputs": [
    {
     "name": "stdout",
     "output_type": "stream",
     "text": [
      "Heroes number = 112\n"
     ]
    }
   ],
   "source": [
    "heroes = pandas.read_csv('samples/heroes.csv')\n",
    "n_heroes = len(heroes)\n",
    "print('Heroes number =', n_heroes)"
   ]
  },
  {
   "cell_type": "markdown",
   "metadata": {},
   "source": [
    "### Формирование мешка слов по героям"
   ]
  },
  {
   "cell_type": "code",
   "execution_count": 32,
   "metadata": {
    "collapsed": true
   },
   "outputs": [],
   "source": [
    "def get_bow_data(in_data):\n",
    "    x_pick = np.zeros((in_data.shape[0], n_heroes))\n",
    "    for i, match_id in enumerate(in_data.index):\n",
    "        for p in range(5):\n",
    "            x_pick[i, in_data.ix[match_id, 'r%d_hero' % (p+1)]-1] = 1\n",
    "            x_pick[i, in_data.ix[match_id, 'd%d_hero' % (p+1)]-1] = -1\n",
    "    bow_data = pandas.DataFrame(x_pick, index=in_data.index)\n",
    "    return bow_data"
   ]
  },
  {
   "cell_type": "code",
   "execution_count": 33,
   "metadata": {
    "collapsed": true
   },
   "outputs": [],
   "source": [
    "bow_train_data = get_bow_data(data)\n",
    "final_x = pandas.concat([x_without_category, bow_train_data], axis=1)\n",
    "scale_x = scaler.fit_transform(final_x)"
   ]
  },
  {
   "cell_type": "code",
   "execution_count": 35,
   "metadata": {
    "collapsed": false
   },
   "outputs": [
    {
     "name": "stdout",
     "output_type": "stream",
     "text": [
      "\n",
      "C = 1e-05\n",
      "score = [ 0.71907467  0.71117649  0.71512939  0.71288168  0.71586231]\n",
      "mean = 0.71482490643\n",
      "time = 0:00:03.804348\n",
      "\n",
      "C = 0.0001\n",
      "score = [ 0.74685672  0.74006714  0.74277168  0.74026225  0.74423779]\n",
      "mean = 0.74283911658\n",
      "time = 0:00:05.036173\n",
      "\n",
      "C = 0.001\n",
      "score = [ 0.75515333  0.74931124  0.75181648  0.74901026  0.75305284]\n",
      "mean = 0.751668830891\n",
      "time = 0:00:08.185122\n",
      "\n",
      "C = 0.01\n",
      "score = [ 0.75521596  0.74985583  0.75218088  0.74951097  0.75308879]\n",
      "mean = 0.751970489032\n",
      "time = 0:00:11.082162\n",
      "\n",
      "C = 0.1\n",
      "score = [ 0.75513027  0.74989157  0.75213472  0.74953537  0.75293117]\n",
      "mean = 0.751924620917\n",
      "time = 0:00:11.498718\n",
      "\n",
      "C = 1.0\n",
      "score = [ 0.75511969  0.74989604  0.75212742  0.74953884  0.75290574]\n",
      "mean = 0.751917547936\n",
      "time = 0:00:12.128124\n",
      "\n",
      "C = 10.0\n",
      "score = [ 0.75511883  0.74989652  0.75212657  0.74953969  0.75290278]\n",
      "mean = 0.751916878023\n",
      "time = 0:00:12.009859\n",
      "\n",
      "C = 100.0\n",
      "score = [ 0.75511879  0.74989678  0.75212649  0.74953983  0.75290249]\n",
      "mean = 0.751916875841\n",
      "time = 0:00:11.892691\n",
      "\n",
      "C = 1000.0\n",
      "score = [ 0.75511885  0.74989672  0.75212658  0.74953981  0.75290238]\n",
      "mean = 0.751916869484\n",
      "time = 0:00:12.016358\n",
      "\n",
      "C = 10000.0\n",
      "score = [ 0.75511887  0.74989671  0.75212658  0.74953978  0.75290239]\n",
      "mean = 0.751916869486\n",
      "time = 0:00:11.942743\n",
      "\n",
      "C = 100000.0\n",
      "score = [ 0.75511887  0.74989671  0.75212658  0.7495398   0.75290238]\n",
      "mean = 0.751916869484\n",
      "time = 0:00:12.131213\n"
     ]
    }
   ],
   "source": [
    "c_parameters, scores = start_logistic_regression(scale_x)"
   ]
  },
  {
   "cell_type": "code",
   "execution_count": 36,
   "metadata": {
    "collapsed": false
   },
   "outputs": [
    {
     "data": {
      "image/png": "[encoded data removed]",
      "text/plain": [
       "<matplotlib.figure.Figure at 0x1ed04ce2f60>"
      ]
     },
     "metadata": {},
     "output_type": "display_data"
    }
   ],
   "source": [
    "plot_chart(np.log10(c_parameters), scores, 'log10(C)', 'mean')"
   ]
  },
  {
   "cell_type": "code",
   "execution_count": 37,
   "metadata": {
    "collapsed": false
   },
   "outputs": [
    {
     "name": "stdout",
     "output_type": "stream",
     "text": [
      "Best C = 0.01\n",
      "Max Score = 0.751970489032\n"
     ]
    }
   ],
   "source": [
    "max_score, best_c = max(zip(scores, c_parameters))\n",
    "print('Best C =', best_c)\n",
    "print('Max Score =', max_score)"
   ]
  },
  {
   "cell_type": "markdown",
   "metadata": {},
   "source": [
    "При добавлении мешка слов по героям значение оценки качесва классификации заметно улучшилось. Это связано с тем, что теперь мы используем категориальные признаки более разумно, т. к. герои имеют разные характеристики, и некоторые из них выигрывают чаще, чем другие. Наилучшего качества логистическая регрессия с мешком слов по героям достигает при параметре регуляризации C = 0.01, при этом оценка качества составляет 0.752."
   ]
  },
  {
   "cell_type": "markdown",
   "metadata": {},
   "source": [
    "### Подготовка тестовых данных"
   ]
  },
  {
   "cell_type": "code",
   "execution_count": 38,
   "metadata": {
    "collapsed": true
   },
   "outputs": [],
   "source": [
    "x_test = pandas.read_csv('samples/features_test.csv', index_col='match_id')\n",
    "x_test = x_test.fillna(0)\n",
    "bow_test_data = get_bow_data(x_test)\n",
    "x_test_without_category = remove_category_features(x_test)\n",
    "final_x_test = pandas.concat([x_test_without_category, bow_test_data], axis=1)\n",
    "scale_x_test = scaler.fit_transform(final_x_test)"
   ]
  },
  {
   "cell_type": "markdown",
   "metadata": {},
   "source": [
    "### Проверка модели на тестовых данных"
   ]
  },
  {
   "cell_type": "code",
   "execution_count": 39,
   "metadata": {
    "collapsed": false
   },
   "outputs": [
    {
     "name": "stdout",
     "output_type": "stream",
     "text": [
      "max p = 0.996328715925\n",
      "min p = 0.500007848132\n"
     ]
    }
   ],
   "source": [
    "model = LogisticRegression(C=best_c, random_state=241, n_jobs=-1)\n",
    "model.fit(scale_x, y)\n",
    "y_test = model.predict_proba(scale_x_test)\n",
    "p = list(map(lambda v: max(v), y_test))\n",
    "max_p = max(p)\n",
    "min_p = min(p)\n",
    "print('max p =', max_p)\n",
    "print('min p =', min_p)"
   ]
  },
  {
   "cell_type": "markdown",
   "metadata": {},
   "source": [
    "Минимальное значение прогноза: 0.500\n",
    "\n",
    "Максимальное значение прогноза: 0.996"
   ]
  },
  {
   "cell_type": "code",
   "execution_count": null,
   "metadata": {
    "collapsed": true
   },
   "outputs": [],
   "source": []
  }
 ],
 "metadata": {
  "kernelspec": {
   "display_name": "Python 3",
   "language": "python",
   "name": "python3"
  },
  "language_info": {
   "codemirror_mode": {
    "name": "ipython",
    "version": 3
   },
   "file_extension": ".py",
   "mimetype": "text/x-python",
   "name": "python",
   "nbconvert_exporter": "python",
   "pygments_lexer": "ipython3",
   "version": "3.6.0"
  }
 },
 "nbformat": 4,
 "nbformat_minor": 2
}
